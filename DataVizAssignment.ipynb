{
  "nbformat": 4,
  "nbformat_minor": 0,
  "metadata": {
    "colab": {
      "name": "DataVizAssignment.ipynb",
      "version": "0.3.2",
      "provenance": [],
      "collapsed_sections": [],
      "include_colab_link": true
    },
    "kernelspec": {
      "name": "python3",
      "display_name": "Python 3"
    }
  },
  "cells": [
    {
      "cell_type": "markdown",
      "metadata": {
        "id": "view-in-github",
        "colab_type": "text"
      },
      "source": [
        "<a href=\"https://colab.research.google.com/github/Venkatakkinapalli/Python-Examples/blob/master/DataVizAssignment.ipynb\" target=\"_parent\"><img src=\"https://colab.research.google.com/assets/colab-badge.svg\" alt=\"Open In Colab\"/></a>"
      ]
    },
    {
      "metadata": {
        "id": "M8gX3bqH91wi",
        "colab_type": "code",
        "colab": {
          "resources": {
            "http://localhost:8080/nbextensions/google.colab/files.js": {
              "data": "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",
              "ok": true,
              "headers": [
                [
                  "content-type",
                  "application/javascript"
                ]
              ],
              "status": 200,
              "status_text": "OK"
            }
          },
          "base_uri": "https://localhost:8080/",
          "height": 93
        },
        "outputId": "31039d33-2568-4a90-eb60-cc0ad79ab70f"
      },
      "cell_type": "code",
      "source": [
        "from google.colab import files\n",
        "\n",
        "uploaded = files.upload()\n",
        "\n",
        "for fn in uploaded.keys():\n",
        "  print('User uploaded file \"{name}\" with length {length} bytes'.format(\n",
        "      name=fn, length=len(uploaded[fn])))"
      ],
      "execution_count": 2,
      "outputs": [
        {
          "output_type": "display_data",
          "data": {
            "text/html": [
              "\n",
              "     <input type=\"file\" id=\"files-749e05e7-7415-47ea-ac7f-e55a0b51fac9\" name=\"files[]\" multiple disabled />\n",
              "     <output id=\"result-749e05e7-7415-47ea-ac7f-e55a0b51fac9\">\n",
              "      Upload widget is only available when the cell has been executed in the\n",
              "      current browser session. Please rerun this cell to enable.\n",
              "      </output>\n",
              "      <script src=\"/nbextensions/google.colab/files.js\"></script> "
            ],
            "text/plain": [
              "<IPython.core.display.HTML object>"
            ]
          },
          "metadata": {
            "tags": []
          }
        },
        {
          "output_type": "stream",
          "text": [
            "Saving Country_Analysis_data.csv to Country_Analysis_data.csv\n",
            "User uploaded file \"Country_Analysis_data.csv\" with length 605204 bytes\n"
          ],
          "name": "stdout"
        }
      ]
    },
    {
      "metadata": {
        "id": "jOmZrUSpCQLO",
        "colab_type": "text"
      },
      "cell_type": "markdown",
      "source": [
        "**Import Statements**"
      ]
    },
    {
      "metadata": {
        "id": "17VGlY85aB8p",
        "colab_type": "code",
        "colab": {
          "base_uri": "https://localhost:8080/",
          "height": 107
        },
        "outputId": "d8971977-544c-4b6a-adf6-1ae4e3243646"
      },
      "cell_type": "code",
      "source": [
        "pip install squarify"
      ],
      "execution_count": 3,
      "outputs": [
        {
          "output_type": "stream",
          "text": [
            "Collecting squarify\n",
            "  Downloading https://files.pythonhosted.org/packages/4e/f2/1f47d7f8c34e3c5f45de8b7fad06947558964e05ce6cccc94cf2066bd22b/squarify-0.4.2-py3-none-any.whl\n",
            "Installing collected packages: squarify\n",
            "Successfully installed squarify-0.4.2\n"
          ],
          "name": "stdout"
        }
      ]
    },
    {
      "metadata": {
        "id": "YQxvYmZ9CPcm",
        "colab_type": "code",
        "colab": {}
      },
      "cell_type": "code",
      "source": [
        "import pandas as pd\n",
        "import numpy as np\n",
        "import plotly.plotly as py\n",
        "import plotly.graph_objs as go\n",
        "import plotly \n",
        "import squarify"
      ],
      "execution_count": 0,
      "outputs": []
    },
    {
      "metadata": {
        "id": "ZgyuT7lxCJ8g",
        "colab_type": "code",
        "colab": {}
      },
      "cell_type": "code",
      "source": [
        "df = pd.read_csv(\"Country_Analysis_data.csv\")"
      ],
      "execution_count": 0,
      "outputs": []
    },
    {
      "metadata": {
        "id": "cl03BoqXCiwT",
        "colab_type": "code",
        "colab": {
          "base_uri": "https://localhost:8080/",
          "height": 208
        },
        "outputId": "6059c2a9-ac28-4501-d15c-55fe37936d9e"
      },
      "cell_type": "code",
      "source": [
        "df.columns"
      ],
      "execution_count": 6,
      "outputs": [
        {
          "output_type": "execute_result",
          "data": {
            "text/plain": [
              "Index(['AHS Weighted Average (%)', 'Trade Balance', 'Trade Flow Selection',\n",
              "       'Color Reporter Region', 'Trade Flow Share',\n",
              "       'Region Product Break down', 'Partner Product Break down',\n",
              "       'Color Partner Product', 'Country Growth (%)',\n",
              "       'Export Product Share (%)', 'Export Trade Value (US$ Thousand)',\n",
              "       'Import Product Share (%)', 'Import Trade Value (US$ Thousand)',\n",
              "       'Number of Records', 'PartnerISO3', 'PartnerRegion', 'Partner',\n",
              "       'ProductCode', 'ProductGroupDescription', 'ReporterISO3',\n",
              "       'ReporterRegion', 'Reporter', 'Revealed comparative advantage',\n",
              "       'World Growth (%)', 'Year'],\n",
              "      dtype='object')"
            ]
          },
          "metadata": {
            "tags": []
          },
          "execution_count": 6
        }
      ]
    },
    {
      "metadata": {
        "id": "ipbv-2lRIyfh",
        "colab_type": "code",
        "colab": {
          "base_uri": "https://localhost:8080/",
          "height": 468
        },
        "outputId": "eb8056e9-1e06-489c-a600-e42ee6629eef"
      },
      "cell_type": "code",
      "source": [
        "df.dtypes"
      ],
      "execution_count": 7,
      "outputs": [
        {
          "output_type": "execute_result",
          "data": {
            "text/plain": [
              "AHS Weighted Average (%)             float64\n",
              "Trade Balance                        float64\n",
              "Trade Flow Selection                 float64\n",
              "Color Reporter Region                 object\n",
              "Trade Flow Share                     float64\n",
              "Region Product Break down             object\n",
              "Partner Product Break down            object\n",
              "Color Partner Product                 object\n",
              "Country Growth (%)                   float64\n",
              "Export Product Share (%)             float64\n",
              "Export Trade Value (US$ Thousand)     object\n",
              "Import Product Share (%)             float64\n",
              "Import Trade Value (US$ Thousand)     object\n",
              "Number of Records                      int64\n",
              "PartnerISO3                           object\n",
              "PartnerRegion                         object\n",
              "Partner                               object\n",
              "ProductCode                           object\n",
              "ProductGroupDescription               object\n",
              "ReporterISO3                          object\n",
              "ReporterRegion                        object\n",
              "Reporter                              object\n",
              "Revealed comparative advantage       float64\n",
              "World Growth (%)                     float64\n",
              "Year                                   int64\n",
              "dtype: object"
            ]
          },
          "metadata": {
            "tags": []
          },
          "execution_count": 7
        }
      ]
    },
    {
      "metadata": {
        "id": "HSSZxHbbEb_v",
        "colab_type": "code",
        "colab": {}
      },
      "cell_type": "code",
      "source": [
        "df[df.columns[9:13]] = df[df.columns[9:13]].replace('[\\$,]', '', regex=True).astype(float)"
      ],
      "execution_count": 0,
      "outputs": []
    },
    {
      "metadata": {
        "id": "XOjb0RjNFPVs",
        "colab_type": "code",
        "colab": {
          "base_uri": "https://localhost:8080/",
          "height": 468
        },
        "outputId": "4429ab56-5cc1-4cac-da6f-4b655ba64e9e"
      },
      "cell_type": "code",
      "source": [
        "df.dtypes"
      ],
      "execution_count": 9,
      "outputs": [
        {
          "output_type": "execute_result",
          "data": {
            "text/plain": [
              "AHS Weighted Average (%)             float64\n",
              "Trade Balance                        float64\n",
              "Trade Flow Selection                 float64\n",
              "Color Reporter Region                 object\n",
              "Trade Flow Share                     float64\n",
              "Region Product Break down             object\n",
              "Partner Product Break down            object\n",
              "Color Partner Product                 object\n",
              "Country Growth (%)                   float64\n",
              "Export Product Share (%)             float64\n",
              "Export Trade Value (US$ Thousand)    float64\n",
              "Import Product Share (%)             float64\n",
              "Import Trade Value (US$ Thousand)    float64\n",
              "Number of Records                      int64\n",
              "PartnerISO3                           object\n",
              "PartnerRegion                         object\n",
              "Partner                               object\n",
              "ProductCode                           object\n",
              "ProductGroupDescription               object\n",
              "ReporterISO3                          object\n",
              "ReporterRegion                        object\n",
              "Reporter                              object\n",
              "Revealed comparative advantage       float64\n",
              "World Growth (%)                     float64\n",
              "Year                                   int64\n",
              "dtype: object"
            ]
          },
          "metadata": {
            "tags": []
          },
          "execution_count": 9
        }
      ]
    },
    {
      "metadata": {
        "id": "EPFTv15XD4nv",
        "colab_type": "code",
        "colab": {}
      },
      "cell_type": "code",
      "source": [
        "By_Country = df.groupby('Partner', as_index=False).agg({\"Export Trade Value (US$ Thousand)\": \"sum\",\n",
        "                                                        \"Import Trade Value (US$ Thousand)\": \"sum\"})"
      ],
      "execution_count": 0,
      "outputs": []
    },
    {
      "metadata": {
        "id": "fFUh4A63Iv0n",
        "colab_type": "code",
        "colab": {}
      },
      "cell_type": "code",
      "source": [
        "By_Country"
      ],
      "execution_count": 0,
      "outputs": []
    },
    {
      "metadata": {
        "id": "zlT69dN0Q4h0",
        "colab_type": "code",
        "colab": {}
      },
      "cell_type": "code",
      "source": [
        "By_Country['Export_Pct']= By_Country['Export Trade Value (US$ Thousand)']*100/By_Country['Export Trade Value (US$ Thousand)'].sum()\n",
        "By_Country['Import_Pct'] = By_Country['Import Trade Value (US$ Thousand)']*100/By_Country['Import Trade Value (US$ Thousand)'].sum()"
      ],
      "execution_count": 0,
      "outputs": []
    },
    {
      "metadata": {
        "id": "F0mCykjoUK0L",
        "colab_type": "code",
        "colab": {}
      },
      "cell_type": "code",
      "source": [
        "By_Country.Export_Pct = By_Country.Export_Pct.round(2)\n",
        "By_Country.Import_Pct = By_Country.Import_Pct.round(2)"
      ],
      "execution_count": 0,
      "outputs": []
    },
    {
      "metadata": {
        "id": "54Z7ZdbhIkh9",
        "colab_type": "text"
      },
      "cell_type": "markdown",
      "source": [
        ""
      ]
    },
    {
      "metadata": {
        "id": "ngLNVghRbfv4",
        "colab_type": "code",
        "colab": {
          "base_uri": "https://localhost:8080/",
          "height": 659
        },
        "outputId": "70890a87-e462-4ae1-f041-3c8c1928e930"
      },
      "cell_type": "code",
      "source": [
        "By_Country[By_Country['Export_Pct']!=0.00]['Export Trade Value (US$ Thousand)'].values[:]"
      ],
      "execution_count": 26,
      "outputs": [
        {
          "output_type": "execute_result",
          "data": {
            "text/plain": [
              "array([3.79946250e+05, 1.54694400e+04, 2.06476900e+04, 1.63309100e+04,\n",
              "       1.18882500e+04, 6.25204796e+06, 2.06668000e+04, 4.72266200e+04,\n",
              "       2.69543000e+04, 2.19613010e+05, 1.85953500e+04, 1.75748690e+05,\n",
              "       8.53918000e+03, 5.64833000e+04, 3.84405000e+03, 8.57262000e+03,\n",
              "       1.99107830e+05, 6.12408000e+03, 1.19441300e+04, 4.80588670e+05,\n",
              "       1.27592430e+05, 8.48209307e+06, 1.92545000e+03, 1.46247500e+04,\n",
              "       4.64527000e+03, 2.83534000e+03, 8.05898900e+04, 8.02745000e+03,\n",
              "       1.79925900e+04, 3.66601800e+04, 1.08975000e+04, 9.50974000e+03,\n",
              "       1.09234350e+05, 1.61780600e+04, 4.09916000e+03, 3.66150000e+03,\n",
              "       2.00654150e+05, 6.26906000e+03, 3.36143000e+03, 2.44727000e+03,\n",
              "       3.19685000e+03, 3.50141060e+05, 1.16468100e+04, 2.45828670e+05,\n",
              "       1.24249530e+05, 3.71243000e+03, 5.06560910e+05, 2.86952700e+04,\n",
              "       3.21273300e+04, 2.65003000e+03, 5.24732000e+03, 2.56083600e+04,\n",
              "       1.73118400e+04, 8.75991230e+05, 3.26782000e+03, 1.94499000e+03,\n",
              "       4.82442890e+05, 6.84053640e+05, 8.60911800e+04, 5.07398000e+03,\n",
              "       4.09653400e+04, 1.98508500e+04, 2.54085090e+05, 2.38593000e+04,\n",
              "       2.27554397e+06, 6.80390400e+04, 7.69304000e+03, 1.15652700e+04,\n",
              "       1.05976188e+06, 8.69750600e+04, 1.00117100e+04, 1.04957500e+04,\n",
              "       3.03021600e+04, 1.25454300e+04, 1.88670800e+04, 2.32117000e+03,\n",
              "       7.21972550e+05, 2.17233500e+04, 7.74014000e+03, 3.89268000e+03,\n",
              "       4.11273000e+03, 5.33187100e+04, 2.55619540e+05, 3.30571000e+03,\n",
              "       6.10622000e+03, 5.63375900e+04, 5.38365000e+03, 2.89683900e+04,\n",
              "       5.61581000e+03, 6.20274560e+05, 1.01156940e+05, 2.13731800e+04,\n",
              "       1.72443830e+05, 1.26305300e+04, 6.18327000e+03, 3.44772000e+03,\n",
              "       2.94138400e+04, 5.94911200e+04, 8.00959400e+05, 9.36956700e+04,\n",
              "       3.24758200e+04, 1.33276320e+05, 8.36839900e+04, 4.99968320e+05,\n",
              "       4.01535000e+04, 3.20231300e+04, 2.70568600e+04, 3.80664000e+03,\n",
              "       1.54856350e+05, 7.78236600e+04, 4.08235710e+05, 9.19525000e+03,\n",
              "       4.59912000e+03, 3.60077000e+03, 8.10018100e+05, 5.37674000e+03,\n",
              "       2.47493000e+03, 2.81386500e+04, 3.24563000e+03, 1.58672100e+05,\n",
              "       1.49663350e+05, 2.85350680e+05, 3.27714000e+03, 4.34896200e+04,\n",
              "       5.07901300e+04, 6.94061000e+04, 9.60219000e+03, 3.46376000e+03,\n",
              "       6.25535600e+05, 4.93161200e+04, 4.62408300e+04, 4.09822000e+03,\n",
              "       6.64023800e+04, 2.94139000e+03, 8.77866000e+03, 6.20494930e+05,\n",
              "       1.02810794e+06, 3.78111197e+06, 4.14622640e+05, 1.05989800e+04,\n",
              "       3.16168000e+03, 3.29787500e+04, 5.13469670e+05, 3.92448000e+03,\n",
              "       1.63261200e+04, 2.16611000e+03])"
            ]
          },
          "metadata": {
            "tags": []
          },
          "execution_count": 26
        }
      ]
    },
    {
      "metadata": {
        "id": "IHXbbyzLcKCa",
        "colab_type": "code",
        "colab": {}
      },
      "cell_type": "code",
      "source": [
        "plotly.tools.set_credentials_file(username='hariprasad4ever', api_key='yNev7U7MEFAzIlSOthMe')"
      ],
      "execution_count": 0,
      "outputs": []
    },
    {
      "metadata": {
        "id": "BcCBZJuGY9Xs",
        "colab_type": "code",
        "colab": {
          "base_uri": "https://localhost:8080/",
          "height": 546
        },
        "outputId": "e02a2ac3-ba4a-4bb4-de3d-c8fa4dcda525"
      },
      "cell_type": "code",
      "source": [
        "import plotly.plotly as py\n",
        "from plotly.graph_objs import *\n",
        "from random import randint\n",
        "\n",
        "colors = []\n",
        "\n",
        "for i in range(By_Country[By_Country['Export_Pct']!=0.00].shape[0]):\n",
        "    colors.append('%06X' % randint(0, 0xFFFFFF))\n",
        "\n",
        "hover = []\n",
        "\n",
        "for i in range(By_Country[By_Country['Export_Pct']!=0.00].shape[0]):\n",
        "    hover.append('text')\n",
        "\n",
        "position = []\n",
        "\n",
        "for i in range(By_Country[By_Country['Export_Pct']!=0.00].shape[0]):\n",
        "    position.append('inside')\n",
        "\n",
        "    \n",
        "\n",
        "\n",
        "trace1 = {\n",
        "  \"hoverinfo\": hover, \n",
        "  \"insidetextfont\": {\"color\": \"#FFFFFF\"}, \n",
        "  \"labels\": By_Country[By_Country['Export_Pct']!=0.00].Partner.values[:], \n",
        "  \"marker\": {\n",
        "    \"colors\": colors,\n",
        "    \"line\": {\n",
        "      \"color\": \"#FFFFFF\", \n",
        "      \"width\": 1\n",
        "    }\n",
        "  }, \n",
        "  \"showlegend\": False, \n",
        "  \"text\": By_Country[By_Country['Export_Pct']!=0.00]['Export Trade Value (US$ Thousand)'].values[:] , \n",
        "  \"textinfo\": \"label+percent\", \n",
        "  \"textposition\": position, \n",
        "  \"type\": \"pie\", \n",
        "  \"values\": By_Country[By_Country['Export_Pct']!=0.00].Export_Pct.values[:]\n",
        "}\n",
        "data = [trace1]\n",
        "layout = {\n",
        "  \"hovermode\": \"closest\", \n",
        "  \"margin\": {\n",
        "    \"r\": 10, \n",
        "    \"t\": 25, \n",
        "    \"b\": 40, \n",
        "    \"l\": 60\n",
        "  }, \n",
        "  \"showlegend\": False, \n",
        "  \"title\": \"2017 Exports by country\", \n",
        "  \"xaxis\": {\n",
        "    \"showgrid\": False, \n",
        "    \"showticklabels\": False, \n",
        "    \"zeroline\": False\n",
        "  }, \n",
        "  \"yaxis\": {\n",
        "    \"showgrid\": False, \n",
        "    \"showticklabels\": False, \n",
        "    \"zeroline\": False\n",
        "  }\n",
        "}\n",
        "fig = Figure(data=data, layout=layout)\n",
        "#plot_url = py.plot(fig)\n",
        "py.iplot(fig, filename='Country Analysis')"
      ],
      "execution_count": 35,
      "outputs": [
        {
          "output_type": "execute_result",
          "data": {
            "text/html": [
              "<iframe id=\"igraph\" scrolling=\"no\" style=\"border:none;\" seamless=\"seamless\" src=\"https://plot.ly/~hariprasad4ever/6.embed\" height=\"525px\" width=\"100%\"></iframe>"
            ],
            "text/plain": [
              "<plotly.tools.PlotlyDisplay object>"
            ]
          },
          "metadata": {
            "tags": []
          },
          "execution_count": 35
        }
      ]
    }
  ]
}