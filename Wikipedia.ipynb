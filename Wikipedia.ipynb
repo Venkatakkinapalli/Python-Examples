{
  "nbformat": 4,
  "nbformat_minor": 0,
  "metadata": {
    "colab": {
      "name": "Wikipedia.ipynb",
      "version": "0.3.2",
      "provenance": [],
      "collapsed_sections": [],
      "include_colab_link": true
    },
    "kernelspec": {
      "name": "python3",
      "display_name": "Python 3"
    }
  },
  "cells": [
    {
      "cell_type": "markdown",
      "metadata": {
        "id": "view-in-github",
        "colab_type": "text"
      },
      "source": [
        "<a href=\"https://colab.research.google.com/github/Venkatakkinapalli/Python-Examples/blob/master/Wikipedia.ipynb\" target=\"_parent\"><img src=\"https://colab.research.google.com/assets/colab-badge.svg\" alt=\"Open In Colab\"/></a>"
      ]
    },
    {
      "metadata": {
        "id": "h7-bPs33bI3X",
        "colab_type": "code",
        "colab": {
          "base_uri": "https://localhost:8080/",
          "height": 35
        },
        "outputId": "6910c4ee-4392-41ff-9041-36a88c81ee97"
      },
      "cell_type": "code",
      "source": [
        "!pip install stop-words"
      ],
      "execution_count": 125,
      "outputs": [
        {
          "output_type": "stream",
          "text": [
            "Requirement already satisfied: stop-words in /usr/local/lib/python3.6/dist-packages (2018.7.23)\n"
          ],
          "name": "stdout"
        }
      ]
    },
    {
      "metadata": {
        "id": "buWKvXCjaY7U",
        "colab_type": "code",
        "colab": {}
      },
      "cell_type": "code",
      "source": [
        "from stop_words import get_stop_words\n",
        "import re\n",
        "import requests\n",
        "from bs4 import BeautifulSoup\n",
        "import json\n",
        "import operator\n",
        "import sys\n",
        "from tabulate import tabulate\n",
        "import webbrowser\n",
        "from nltk.stem import PorterStemmer \n",
        "from nltk.tokenize import word_tokenize "
      ],
      "execution_count": 0,
      "outputs": []
    },
    {
      "metadata": {
        "id": "OFrG20NRdc6Z",
        "colab_type": "code",
        "colab": {}
      },
      "cell_type": "code",
      "source": [
        "string_query = 'Wellington'\n",
        "Search_mode = 'True'"
      ],
      "execution_count": 0,
      "outputs": []
    },
    {
      "metadata": {
        "id": "mZBmqsH3cBLI",
        "colab_type": "code",
        "colab": {}
      },
      "cell_type": "code",
      "source": [
        "#access wiki API. json format. query it for data. search tyep. shows list of possibilities\n",
        "wikipedia_api_link = \"https://en.wikipedia.org/w/api.php?format=json&action=query&list=search&srsearch=\"\n",
        "wikipedia_link = \"https://en.wikipedia.org/wiki/\"\n",
        "url = wikipedia_api_link + string_query"
      ],
      "execution_count": 0,
      "outputs": []
    },
    {
      "metadata": {
        "id": "UFk2ia7gdbFh",
        "colab_type": "code",
        "colab": {}
      },
      "cell_type": "code",
      "source": [
        "res = requests.get(url)\n",
        "data = json.loads(res.content.decode('utf-8'))\n"
      ],
      "execution_count": 0,
      "outputs": []
    },
    {
      "metadata": {
        "id": "v8ipcInrdBpi",
        "colab_type": "code",
        "colab": {}
      },
      "cell_type": "code",
      "source": [
        "page_title = data['query']['search'][0]['title']\n",
        "page_url = wikipedia_link+page_title"
      ],
      "execution_count": 0,
      "outputs": []
    },
    {
      "metadata": {
        "id": "xMecO_e0fz-K",
        "colab_type": "code",
        "colab": {}
      },
      "cell_type": "code",
      "source": [
        "page_res= requests.get(page_url)\n",
        "page_soup = BeautifulSoup(page_res.text,'lxml')"
      ],
      "execution_count": 0,
      "outputs": []
    },
    {
      "metadata": {
        "id": "2gzoEaJsm45H",
        "colab_type": "code",
        "colab": {}
      },
      "cell_type": "code",
      "source": [
        "def clean_word(word):\n",
        "  cword = re.sub(r'[^A-Za-z]+', '', word)\n",
        "  return cword             "
      ],
      "execution_count": 0,
      "outputs": []
    },
    {
      "metadata": {
        "id": "ez6TKd7PslJ_",
        "colab_type": "code",
        "colab": {}
      },
      "cell_type": "code",
      "source": [
        "def get_frequency_list(words):\n",
        "  word_count = {}\n",
        "  for word in words:\n",
        "    if word in word_count:\n",
        "      word_count[word] += 1\n",
        "    else:\n",
        "      word_count[word] = 1\n",
        "  return word_count"
      ],
      "execution_count": 0,
      "outputs": []
    },
    {
      "metadata": {
        "id": "UuCpJl1Rucb_",
        "colab_type": "code",
        "colab": {}
      },
      "cell_type": "code",
      "source": [
        "def remove_stopwords(frequency_list):\n",
        "  stop_words = get_stop_words('en')\n",
        "  temp_list = []\n",
        "  for key,value in frequency_list:\n",
        "    if key not in stop_words:\n",
        "      temp_list.append([key,value])\n",
        "  return temp_list"
      ],
      "execution_count": 0,
      "outputs": []
    },
    {
      "metadata": {
        "id": "XwfxfEewgMn0",
        "colab_type": "code",
        "colab": {}
      },
      "cell_type": "code",
      "source": [
        "words = []\n",
        "ps = PorterStemmer() \n",
        "for x in page_soup.select('p'):\n",
        "  if len(x.getText())>2:\n",
        "    content = x.getText().lower().split()\n",
        "    for word in content:\n",
        "      cleaned_word = clean_word(word)\n",
        "      if len(ps.stem(cleaned_word))>2: words.append(ps.stem(cleaned_word))"
      ],
      "execution_count": 0,
      "outputs": []
    },
    {
      "metadata": {
        "id": "EkzI8Vv3iJGS",
        "colab_type": "code",
        "colab": {}
      },
      "cell_type": "code",
      "source": [
        "frequency_list = get_frequency_list(words)\n",
        "frequency_list = sorted(frequency_list.items(), key=operator.itemgetter(1),reverse=True)"
      ],
      "execution_count": 0,
      "outputs": []
    },
    {
      "metadata": {
        "id": "ViBYqqhVwUfD",
        "colab_type": "code",
        "colab": {}
      },
      "cell_type": "code",
      "source": [
        "final_list = remove_stopwords(frequency_list)[:20]"
      ],
      "execution_count": 0,
      "outputs": []
    },
    {
      "metadata": {
        "id": "cpHAMX9_kFtD",
        "colab_type": "code",
        "colab": {}
      },
      "cell_type": "code",
      "source": [
        "total_sum = 0\n",
        "last_list = []\n",
        "for key,value in final_list:\n",
        "  total_sum = total_sum + value\n",
        "for key,value in final_list:\n",
        "  frequency = float(\"{0:.2f}\".format(value*100/total_sum))\n",
        "  last_list.append([key,value,frequency])"
      ],
      "execution_count": 0,
      "outputs": []
    },
    {
      "metadata": {
        "id": "DFrT_dbh332e",
        "colab_type": "code",
        "colab": {
          "base_uri": "https://localhost:8080/",
          "height": 399
        },
        "outputId": "ed6dcf84-12e0-49eb-9097-f6cad1f6f889"
      },
      "cell_type": "code",
      "source": [
        "#headers before the table \n",
        "print_headers = ['Word', 'Frequency', 'Frequency Percentage']\n",
        "\n",
        "#print the table with tabulate\n",
        "print(tabulate(last_list, headers=print_headers, tablefmt='orgtbl'))"
      ],
      "execution_count": 139,
      "outputs": [
        {
          "output_type": "stream",
          "text": [
            "| Word       |   Frequency |   Frequency Percentage |\n",
            "|------------+-------------+------------------------|\n",
            "| wellington |         168 |                  23.3  |\n",
            "| citi       |          77 |                  10.68 |\n",
            "| new        |          75 |                  10.4  |\n",
            "| zealand    |          73 |                  10.12 |\n",
            "| build      |          30 |                   4.16 |\n",
            "| island     |          26 |                   3.61 |\n",
            "| hutt       |          24 |                   3.33 |\n",
            "| area       |          23 |                   3.19 |\n",
            "| includ     |          23 |                   3.19 |\n",
            "| centr      |          22 |                   3.05 |\n",
            "| nation     |          20 |                   2.77 |\n",
            "| intern     |          20 |                   2.77 |\n",
            "| art        |          20 |                   2.77 |\n",
            "| north      |          18 |                   2.5  |\n",
            "| year       |          18 |                   2.5  |\n",
            "| earthquak  |          18 |                   2.5  |\n",
            "| capit      |          17 |                   2.36 |\n",
            "| hous       |          17 |                   2.36 |\n",
            "| home       |          16 |                   2.22 |\n",
            "| two        |          16 |                   2.22 |\n"
          ],
          "name": "stdout"
        }
      ]
    }
  ]
}