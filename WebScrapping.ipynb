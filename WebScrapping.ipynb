{
  "nbformat": 4,
  "nbformat_minor": 0,
  "metadata": {
    "colab": {
      "name": "WebScrapping.ipynb",
      "version": "0.3.2",
      "provenance": [],
      "collapsed_sections": [],
      "include_colab_link": true
    },
    "kernelspec": {
      "name": "python3",
      "display_name": "Python 3"
    }
  },
  "cells": [
    {
      "cell_type": "markdown",
      "metadata": {
        "id": "view-in-github",
        "colab_type": "text"
      },
      "source": [
        "<a href=\"https://colab.research.google.com/github/Venkatakkinapalli/Python-Examples/blob/master/WebScrapping.ipynb\" target=\"_parent\"><img src=\"https://colab.research.google.com/assets/colab-badge.svg\" alt=\"Open In Colab\"/></a>"
      ]
    },
    {
      "metadata": {
        "id": "ol_PJjF9l1nZ",
        "colab_type": "code",
        "colab": {}
      },
      "cell_type": "code",
      "source": [
        "#Import Libraries\n",
        "import re\n",
        "from bs4 import BeautifulSoup\n",
        "import requests\n",
        "import json\n",
        "import sys\n",
        "from os import path\n",
        "import os\n",
        "import webbrowser\n",
        "\n",
        "#defile URL\n",
        "\n",
        "#os.makedirs('Comics')\n",
        "\n",
        "def get_url_name(search):\n",
        "  #print(\"googling...\")\n",
        "  res = requests.get(search)\n",
        "  try:\n",
        "      res.raise_for_status()\n",
        "  except Exception as excp:\n",
        "      print(\"something wrong %\" % excp)\n",
        "\n",
        "  ResultsSoup = BeautifulSoup(res.text)\n",
        "  url = 'https:'+ResultsSoup.select('div > img')[0].get('src')\n",
        "  name = ResultsSoup.select('div > img')[0].get('alt')\n",
        "  return url,name"
      ],
      "execution_count": 0,
      "outputs": []
    },
    {
      "metadata": {
        "id": "0So-vYs4Xnss",
        "colab_type": "code",
        "colab": {}
      },
      "cell_type": "code",
      "source": [
        "def writefile(url,name):\n",
        "  imagefile = open(path.join('Comics',name+'.png'),'wb')\n",
        "  img_data = requests.get(url)\n",
        "  for chunk in img_data:\n",
        "    imagefile.write(chunk)\n",
        "  imagefile.close()"
      ],
      "execution_count": 0,
      "outputs": []
    },
    {
      "metadata": {
        "id": "PFyQ6C1Kf7zG",
        "colab_type": "code",
        "colab": {}
      },
      "cell_type": "code",
      "source": [
        "main_url = \"https://xkcd.com/\"\n",
        "for i in range(5,50):\n",
        "  search = main_url+str(2129-i)+ '/'\n",
        "  url,name =  get_url_name(search)\n",
        "  writefile(url,name)\n",
        "  "
      ],
      "execution_count": 0,
      "outputs": []
    }
  ]
}